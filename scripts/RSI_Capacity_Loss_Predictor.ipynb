{
 "cells": [
  {
   "cell_type": "code",
   "execution_count": null,
   "metadata": {
    "colab": {
     "base_uri": "https://localhost:8080/"
    },
    "id": "iFWTtZiqDCN3",
    "outputId": "0b72d566-d03a-48e9-9a18-76503a64dadf"
   },
   "outputs": [
    {
     "name": "stdout",
     "output_type": "stream",
     "text": [
      "Mounted at /content/drive\n"
     ]
    }
   ],
   "source": [
    "### Run this cell if running script in Google Colaboratory\n",
    "from google.colab import drive\n",
    "drive.mount('/content/drive')"
   ]
  },
  {
   "cell_type": "code",
   "execution_count": 1,
   "metadata": {
    "id": "OAUHZ96qqnj2"
   },
   "outputs": [
    {
     "name": "stdout",
     "output_type": "stream",
     "text": [
      "Requirement already satisfied: tensorflow in c:\\programdata\\anaconda3\\lib\\site-packages (2.9.1)\n",
      "Requirement already satisfied: gast<=0.4.0,>=0.2.1 in c:\\programdata\\anaconda3\\lib\\site-packages (from tensorflow) (0.4.0)\n",
      "Requirement already satisfied: packaging in c:\\programdata\\anaconda3\\lib\\site-packages (from tensorflow) (21.0)\n",
      "Requirement already satisfied: wrapt>=1.11.0 in c:\\programdata\\anaconda3\\lib\\site-packages (from tensorflow) (1.12.1)\n",
      "Requirement already satisfied: keras<2.10.0,>=2.9.0rc0 in c:\\programdata\\anaconda3\\lib\\site-packages (from tensorflow) (2.9.0)\n",
      "Requirement already satisfied: numpy>=1.20 in c:\\programdata\\anaconda3\\lib\\site-packages (from tensorflow) (1.20.3)\n",
      "Requirement already satisfied: absl-py>=1.0.0 in c:\\programdata\\anaconda3\\lib\\site-packages (from tensorflow) (1.1.0)\n",
      "Requirement already satisfied: six>=1.12.0 in c:\\programdata\\anaconda3\\lib\\site-packages (from tensorflow) (1.16.0)\n",
      "Requirement already satisfied: astunparse>=1.6.0 in c:\\programdata\\anaconda3\\lib\\site-packages (from tensorflow) (1.6.3)\n",
      "Requirement already satisfied: protobuf<3.20,>=3.9.2 in c:\\programdata\\anaconda3\\lib\\site-packages (from tensorflow) (3.19.4)\n",
      "Requirement already satisfied: grpcio<2.0,>=1.24.3 in c:\\programdata\\anaconda3\\lib\\site-packages (from tensorflow) (1.47.0)\n",
      "Requirement already satisfied: tensorboard<2.10,>=2.9 in c:\\programdata\\anaconda3\\lib\\site-packages (from tensorflow) (2.9.1)\n",
      "Requirement already satisfied: opt-einsum>=2.3.2 in c:\\programdata\\anaconda3\\lib\\site-packages (from tensorflow) (3.3.0)\n",
      "Requirement already satisfied: typing-extensions>=3.6.6 in c:\\programdata\\anaconda3\\lib\\site-packages (from tensorflow) (3.10.0.2)\n",
      "Requirement already satisfied: setuptools in c:\\programdata\\anaconda3\\lib\\site-packages (from tensorflow) (58.0.4)\n",
      "Requirement already satisfied: h5py>=2.9.0 in c:\\programdata\\anaconda3\\lib\\site-packages (from tensorflow) (3.2.1)\n",
      "Requirement already satisfied: tensorflow-io-gcs-filesystem>=0.23.1 in c:\\programdata\\anaconda3\\lib\\site-packages (from tensorflow) (0.26.0)\n",
      "Requirement already satisfied: libclang>=13.0.0 in c:\\programdata\\anaconda3\\lib\\site-packages (from tensorflow) (14.0.1)\n",
      "Requirement already satisfied: flatbuffers<2,>=1.12 in c:\\programdata\\anaconda3\\lib\\site-packages (from tensorflow) (1.12)\n",
      "Requirement already satisfied: keras-preprocessing>=1.1.1 in c:\\programdata\\anaconda3\\lib\\site-packages (from tensorflow) (1.1.2)\n",
      "Requirement already satisfied: google-pasta>=0.1.1 in c:\\programdata\\anaconda3\\lib\\site-packages (from tensorflow) (0.2.0)\n",
      "Requirement already satisfied: tensorflow-estimator<2.10.0,>=2.9.0rc0 in c:\\programdata\\anaconda3\\lib\\site-packages (from tensorflow) (2.9.0)\n",
      "Requirement already satisfied: termcolor>=1.1.0 in c:\\programdata\\anaconda3\\lib\\site-packages (from tensorflow) (1.1.0)\n",
      "Requirement already satisfied: wheel<1.0,>=0.23.0 in c:\\programdata\\anaconda3\\lib\\site-packages (from astunparse>=1.6.0->tensorflow) (0.37.0)\n",
      "Requirement already satisfied: google-auth<3,>=1.6.3 in c:\\programdata\\anaconda3\\lib\\site-packages (from tensorboard<2.10,>=2.9->tensorflow) (2.8.0)\n",
      "Requirement already satisfied: markdown>=2.6.8 in c:\\programdata\\anaconda3\\lib\\site-packages (from tensorboard<2.10,>=2.9->tensorflow) (3.3.7)\n",
      "Requirement already satisfied: google-auth-oauthlib<0.5,>=0.4.1 in c:\\programdata\\anaconda3\\lib\\site-packages (from tensorboard<2.10,>=2.9->tensorflow) (0.4.6)\n",
      "Requirement already satisfied: werkzeug>=1.0.1 in c:\\programdata\\anaconda3\\lib\\site-packages (from tensorboard<2.10,>=2.9->tensorflow) (2.0.2)\n",
      "Requirement already satisfied: tensorboard-plugin-wit>=1.6.0 in c:\\programdata\\anaconda3\\lib\\site-packages (from tensorboard<2.10,>=2.9->tensorflow) (1.8.1)\n",
      "Requirement already satisfied: requests<3,>=2.21.0 in c:\\programdata\\anaconda3\\lib\\site-packages (from tensorboard<2.10,>=2.9->tensorflow) (2.26.0)\n",
      "Requirement already satisfied: tensorboard-data-server<0.7.0,>=0.6.0 in c:\\programdata\\anaconda3\\lib\\site-packages (from tensorboard<2.10,>=2.9->tensorflow) (0.6.1)\n",
      "Requirement already satisfied: rsa<5,>=3.1.4 in c:\\programdata\\anaconda3\\lib\\site-packages (from google-auth<3,>=1.6.3->tensorboard<2.10,>=2.9->tensorflow) (4.8)\n",
      "Requirement already satisfied: pyasn1-modules>=0.2.1 in c:\\programdata\\anaconda3\\lib\\site-packages (from google-auth<3,>=1.6.3->tensorboard<2.10,>=2.9->tensorflow) (0.2.8)\n",
      "Requirement already satisfied: cachetools<6.0,>=2.0.0 in c:\\programdata\\anaconda3\\lib\\site-packages (from google-auth<3,>=1.6.3->tensorboard<2.10,>=2.9->tensorflow) (5.2.0)\n",
      "Requirement already satisfied: requests-oauthlib>=0.7.0 in c:\\programdata\\anaconda3\\lib\\site-packages (from google-auth-oauthlib<0.5,>=0.4.1->tensorboard<2.10,>=2.9->tensorflow) (1.3.1)\n",
      "Requirement already satisfied: importlib-metadata>=4.4 in c:\\programdata\\anaconda3\\lib\\site-packages (from markdown>=2.6.8->tensorboard<2.10,>=2.9->tensorflow) (4.8.1)\n",
      "Requirement already satisfied: zipp>=0.5 in c:\\programdata\\anaconda3\\lib\\site-packages (from importlib-metadata>=4.4->markdown>=2.6.8->tensorboard<2.10,>=2.9->tensorflow) (3.6.0)\n",
      "Requirement already satisfied: pyasn1<0.5.0,>=0.4.6 in c:\\programdata\\anaconda3\\lib\\site-packages (from pyasn1-modules>=0.2.1->google-auth<3,>=1.6.3->tensorboard<2.10,>=2.9->tensorflow) (0.4.8)\n",
      "Requirement already satisfied: charset-normalizer~=2.0.0 in c:\\programdata\\anaconda3\\lib\\site-packages (from requests<3,>=2.21.0->tensorboard<2.10,>=2.9->tensorflow) (2.0.4)\n",
      "Requirement already satisfied: urllib3<1.27,>=1.21.1 in c:\\programdata\\anaconda3\\lib\\site-packages (from requests<3,>=2.21.0->tensorboard<2.10,>=2.9->tensorflow) (1.26.7)\n",
      "Requirement already satisfied: certifi>=2017.4.17 in c:\\programdata\\anaconda3\\lib\\site-packages (from requests<3,>=2.21.0->tensorboard<2.10,>=2.9->tensorflow) (2021.10.8)\n",
      "Requirement already satisfied: idna<4,>=2.5 in c:\\programdata\\anaconda3\\lib\\site-packages (from requests<3,>=2.21.0->tensorboard<2.10,>=2.9->tensorflow) (3.2)\n",
      "Requirement already satisfied: oauthlib>=3.0.0 in c:\\programdata\\anaconda3\\lib\\site-packages (from requests-oauthlib>=0.7.0->google-auth-oauthlib<0.5,>=0.4.1->tensorboard<2.10,>=2.9->tensorflow) (3.2.0)\n",
      "Requirement already satisfied: pyparsing>=2.0.2 in c:\\programdata\\anaconda3\\lib\\site-packages (from packaging->tensorflow) (3.0.4)\n"
     ]
    }
   ],
   "source": [
    "### NOTE: If running script on operating system for first time, \n",
    "### run this cell.\n",
    "!pip install tensorflow"
   ]
  },
  {
   "cell_type": "code",
   "execution_count": 5,
   "metadata": {
    "colab": {
     "base_uri": "https://localhost:8080/"
    },
    "id": "T8hQpewiCmUX",
    "outputId": "6c6da12e-d165-465c-a328-74fbf523341d",
    "scrolled": true
   },
   "outputs": [
    {
     "name": "stdout",
     "output_type": "stream",
     "text": [
      "Mean Monthly Precipitation (in/mo.): 1.348\n",
      "Max Monthly Precipitation (in): 5.529\n",
      "Cumulative Precip. (in): 250.4\n",
      "Basin Area (mi²): 262227\n",
      "Avg. Basin Lat. (°): 46.09\n",
      "Basin Relief (ft): 12504\n",
      "Channel Slope: 0.001035\n",
      "Curve Number: 76.33\n",
      "Total Upstream Normal Storage (acre-ft): 108849468\n",
      "Total Upstream Dam Height (ft): 147002\n",
      "Hydraulic Length (ft): 12086074\n",
      "Initial Capacity (acre-ft): 6281079\n",
      "1/1 [==============================] - 0s 253ms/step\n",
      "*****************************************************\n",
      "Predicted Capacity Loss Value (acre-ft):  132644.69\n"
     ]
    }
   ],
   "source": [
    "### Required libraries for script\n",
    "import numpy as np\n",
    "import pandas as pd\n",
    "from keras.models import load_model  ### This library requires tensorflow to be installed on your OS (automatically installed in Google Colaboratory).\n",
    "import os\n",
    "\n",
    "\n",
    "#### Values for transformation and unstransformation of input and output data ####\n",
    "\n",
    "raw_min_x = [0.630073205118252,1.43810276557797,2.96269241947579,1.76472729118331, \n",
    "           3.44590962334884,5.1375514408174,0.000338858580945619,4.00369019395397,\n",
    "           0,0,10.0148352591427,6.62936325343745]\n",
    "\n",
    "raw_max_x = [1.83601494659418,3.73669154870064,7.87105554302205,12.5367912114883,\n",
    "           3.91209676270801,9.52841555145308,0.0989619485186843,4.53259949315326,\n",
    "           18.5541124009785,12.0109345668791,16.3542110492893,17.2997495062243]\n",
    "\n",
    "#################################################################################\n",
    "\n",
    "\n",
    "\n",
    "##### Defined functions for data transformation and scaling #####\n",
    "\n",
    "def transform(value):  \n",
    "  \"\"\" transforms the value or data provided to a natural logarithmic form \"\"\"\n",
    "  variables = []\n",
    "  for vals in value:\n",
    "    trans = np.sign(vals)*(np.log(abs(vals)+1))\n",
    "    variables.append(trans)\n",
    "  return variables\n",
    "\n",
    "def minmax_norm(value, raw_min, raw_max):\n",
    "  \"\"\" applies the linear min-max normalization \"\"\"\n",
    "  variables = []\n",
    "  for i in range(0,len(raw_min)):\n",
    "    norm = (0.7 * ((value[i]-raw_min[i])/(raw_max[i]-raw_min[i]))) + 0.15\n",
    "    variables.append(norm)\n",
    "  return variables \n",
    "\n",
    "def untransform_cap_loss(value):\n",
    "  \"\"\" untransforms the value or data provided to its original form \"\"\"\n",
    "  untrans = np.exp(((value-0.15)/0.7)*(14.1042777914158-0.693147180559945)+0.693147180559945)-1  \n",
    "  return untrans\n",
    "\n",
    "###################################################################\n",
    "\n",
    "\n",
    "### Loading Model --------  On line below, be sure to change and set the 'path' in load_model('path') for the file path of the 'calibrated_best_model.hdf5' file on your OS or Google Drive\n",
    "model = load_model(r'C:\\Users\\coxal\\OneDrive - Saint Louis University\\RSI (I)\\7 Documents and Presentations\\Final Report\\Final Draft\\Scripts\\calibrated_best_model.hdf5')\n",
    "\n",
    "\n",
    "### Input Values ###\n",
    "\n",
    "mean_mnth_precip = float(input('Mean Monthly Precipitation (in/mo.): ')) \n",
    "max_mnth_precip = float(input('Max Monthly Precipitation (in): '))\n",
    "cumulative_precip = float(input('Cumulative Precip. (in): ')) \n",
    "basin_area = float(input('Basin Area (mi\\N{SUPERSCRIPT TWO}): '))\n",
    "avg_basin_lat = float(input('Avg. Basin Lat. (°): '))\n",
    "basin_rlf = float(input('Basin Relief (ft): '))   \n",
    "channel_slp = float(input('Channel Slope: '))    \n",
    "curve_number = float(input('Curve Number: '))  \n",
    "tot_upstr_nrm_str = float(input('Total Upstream Normal Storage (acre-ft): ')) \n",
    "tot_upstrm_dam_ht = float(input('Total Upstream Dam Height (ft): ')) \n",
    "hydraulic_len = float(input('Hydraulic Length (ft): '))     \n",
    "initial_capacity =  float(input('Initial Capacity (acre-ft): '))     \n",
    "\n",
    "#####################\n",
    "\n",
    "\n",
    "#Create list of input variables in specified order --- NOTE: Do not change order. Order of variables important for accurate model performance.\n",
    "predictor_variables = [mean_mnth_precip, max_mnth_precip, cumulative_precip, basin_area,  \n",
    "                       avg_basin_lat,basin_rlf, channel_slp, curve_number, tot_upstr_nrm_str,\n",
    "                       tot_upstrm_dam_ht, hydraulic_len, initial_capacity]\n",
    "\n",
    "ls_values = minmax_norm(transform(predictor_variables),raw_min_x,raw_max_x)  #log transformation and minmax scaling of input values\n",
    "ls_array = np.array(ls_values).reshape(1,-1)  #create numpy array of input values for prediction \n",
    "prediction = model.predict(ls_array)  #performs prediction based on input values\n",
    "predicted_value = untransform_cap_loss(prediction)  #untransforms the resulting predicted value\n",
    "print('*'*53)\n",
    "print('Predicted Capacity Loss Value (acre-ft): ', predicted_value[0][0])  #displays predicted result"
   ]
  },
  {
   "cell_type": "code",
   "execution_count": null,
   "metadata": {},
   "outputs": [],
   "source": []
  }
 ],
 "metadata": {
  "colab": {
   "collapsed_sections": [],
   "name": "RSI_Capacity_Loss_Predictor.ipynb",
   "provenance": []
  },
  "kernelspec": {
   "display_name": "Python 3 (ipykernel)",
   "language": "python",
   "name": "python3"
  },
  "language_info": {
   "codemirror_mode": {
    "name": "ipython",
    "version": 3
   },
   "file_extension": ".py",
   "mimetype": "text/x-python",
   "name": "python",
   "nbconvert_exporter": "python",
   "pygments_lexer": "ipython3",
   "version": "3.9.7"
  }
 },
 "nbformat": 4,
 "nbformat_minor": 1
}
